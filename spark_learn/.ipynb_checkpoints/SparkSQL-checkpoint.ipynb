{
 "cells": [
  {
   "cell_type": "code",
   "execution_count": 6,
   "metadata": {},
   "outputs": [],
   "source": [
    "from pyspark import SparkContext\n",
    "from pyspark.sql import SQLContext\n",
    "import gzip, os"
   ]
  },
  {
   "cell_type": "code",
   "execution_count": 2,
   "metadata": {},
   "outputs": [],
   "source": [
    "sc = SparkContext()\n",
    "sql = SQLContext(sc)"
   ]
  },
  {
   "cell_type": "code",
   "execution_count": 7,
   "metadata": {},
   "outputs": [],
   "source": [
    "with gzip.open('big-data-3/game-clicks.csv.gz') as f0:\n",
    "    with open('game-clicks.csv.tmp','wb') as f:\n",
    "        f.write(f0.read())"
   ]
  },
  {
   "cell_type": "code",
   "execution_count": 15,
   "metadata": {},
   "outputs": [
    {
     "name": "stdout",
     "output_type": "stream",
     "text": [
      "root\n",
      " |-- timestamp: timestamp (nullable = true)\n",
      " |-- clickId: integer (nullable = true)\n",
      " |-- userId: integer (nullable = true)\n",
      " |-- userSessionId: integer (nullable = true)\n",
      " |-- isHit: integer (nullable = true)\n",
      " |-- teamId: integer (nullable = true)\n",
      " |-- teamLevel: integer (nullable = true)\n",
      "\n"
     ]
    }
   ],
   "source": [
    "df = sql.read.csv('game-clicks.csv.tmp',\n",
    "                 header='true',\n",
    "                 inferSchema='true')\n",
    "df.printSchema()"
   ]
  },
  {
   "cell_type": "code",
   "execution_count": 14,
   "metadata": {},
   "outputs": [
    {
     "data": {
      "text/plain": [
       "755806"
      ]
     },
     "execution_count": 14,
     "metadata": {},
     "output_type": "execute_result"
    }
   ],
   "source": [
    "df.count()"
   ]
  },
  {
   "cell_type": "code",
   "execution_count": 16,
   "metadata": {},
   "outputs": [
    {
     "name": "stdout",
     "output_type": "stream",
     "text": [
      "+-------------------+-------+------+-------------+-----+------+---------+\n",
      "|          timestamp|clickId|userId|userSessionId|isHit|teamId|teamLevel|\n",
      "+-------------------+-------+------+-------------+-----+------+---------+\n",
      "|2016-05-26 15:06:55|    105|  1038|         5916|    0|    25|        1|\n",
      "|2016-05-26 15:07:09|    154|  1099|         5898|    0|    44|        1|\n",
      "|2016-05-26 15:07:14|    229|   899|         5757|    0|    71|        1|\n",
      "|2016-05-26 15:07:14|    322|  2197|         5854|    0|    99|        1|\n",
      "|2016-05-26 15:07:20|     22|  1362|         5739|    0|    13|        1|\n",
      "+-------------------+-------+------+-------------+-----+------+---------+\n",
      "only showing top 5 rows\n",
      "\n"
     ]
    }
   ],
   "source": [
    "df.show(5)"
   ]
  },
  {
   "cell_type": "code",
   "execution_count": 18,
   "metadata": {},
   "outputs": [
    {
     "name": "stdout",
     "output_type": "stream",
     "text": [
      "+------+---------+\n",
      "|userid|teamlevel|\n",
      "+------+---------+\n",
      "|  1038|        1|\n",
      "|  1099|        1|\n",
      "|   899|        1|\n",
      "|  2197|        1|\n",
      "|  1362|        1|\n",
      "+------+---------+\n",
      "only showing top 5 rows\n",
      "\n"
     ]
    }
   ],
   "source": [
    "df.select('userid','teamlevel').show(5)"
   ]
  },
  {
   "cell_type": "code",
   "execution_count": 20,
   "metadata": {},
   "outputs": [
    {
     "name": "stdout",
     "output_type": "stream",
     "text": [
      "+------+---------+\n",
      "|userid|teamlevel|\n",
      "+------+---------+\n",
      "|  1513|        2|\n",
      "|   868|        2|\n",
      "|  1453|        2|\n",
      "|  1282|        2|\n",
      "|  1473|        2|\n",
      "+------+---------+\n",
      "only showing top 5 rows\n",
      "\n"
     ]
    }
   ],
   "source": [
    "df.filter(df['teamlevel']>1).select('userid','teamlevel').show(5)"
   ]
  },
  {
   "cell_type": "code",
   "execution_count": 24,
   "metadata": {},
   "outputs": [
    {
     "name": "stdout",
     "output_type": "stream",
     "text": [
      "+-----+------+\n",
      "|isHit| count|\n",
      "+-----+------+\n",
      "|    1| 83383|\n",
      "|    0|672423|\n",
      "+-----+------+\n",
      "\n"
     ]
    }
   ],
   "source": [
    "df.groupBy('isHit').count().show()"
   ]
  },
  {
   "cell_type": "code",
   "execution_count": 26,
   "metadata": {},
   "outputs": [
    {
     "name": "stdout",
     "output_type": "stream",
     "text": [
      "+------------------+----------+\n",
      "|        avg(isHit)|sum(isHit)|\n",
      "+------------------+----------+\n",
      "|0.1103232840173272|     83383|\n",
      "+------------------+----------+\n",
      "\n"
     ]
    }
   ],
   "source": [
    "from pyspark.sql.functions import mean,sum\n",
    "df.select(mean('isHit'),sum('isHit')).show()"
   ]
  },
  {
   "cell_type": "code",
   "execution_count": 27,
   "metadata": {},
   "outputs": [
    {
     "name": "stdout",
     "output_type": "stream",
     "text": [
      "root\n",
      " |-- timestamp: timestamp (nullable = true)\n",
      " |-- txId: integer (nullable = true)\n",
      " |-- userSessionId: integer (nullable = true)\n",
      " |-- teamId: integer (nullable = true)\n",
      " |-- userId: integer (nullable = true)\n",
      " |-- adId: integer (nullable = true)\n",
      " |-- adCategory: string (nullable = true)\n",
      "\n"
     ]
    }
   ],
   "source": [
    "with gzip.open('big-data-3/ad-clicks.csv.gz') as f0:\n",
    "    with open('ad-clicks.csv.tmp','wb') as f:\n",
    "        f.write(f0.read())\n",
    "df2 = sql.read.csv('ad-clicks.csv.tmp',\n",
    "                 header='true',\n",
    "                 inferSchema='true')\n",
    "df2.printSchema()\n"
   ]
  },
  {
   "cell_type": "code",
   "execution_count": 28,
   "metadata": {},
   "outputs": [],
   "source": [
    "merge = df.join(df2, 'userId')"
   ]
  },
  {
   "cell_type": "code",
   "execution_count": 29,
   "metadata": {},
   "outputs": [
    {
     "name": "stdout",
     "output_type": "stream",
     "text": [
      "root\n",
      " |-- userId: integer (nullable = true)\n",
      " |-- timestamp: timestamp (nullable = true)\n",
      " |-- clickId: integer (nullable = true)\n",
      " |-- userSessionId: integer (nullable = true)\n",
      " |-- isHit: integer (nullable = true)\n",
      " |-- teamId: integer (nullable = true)\n",
      " |-- teamLevel: integer (nullable = true)\n",
      " |-- timestamp: timestamp (nullable = true)\n",
      " |-- txId: integer (nullable = true)\n",
      " |-- userSessionId: integer (nullable = true)\n",
      " |-- teamId: integer (nullable = true)\n",
      " |-- adId: integer (nullable = true)\n",
      " |-- adCategory: string (nullable = true)\n",
      "\n"
     ]
    }
   ],
   "source": [
    "merge.printSchema()"
   ]
  },
  {
   "cell_type": "code",
   "execution_count": 30,
   "metadata": {},
   "outputs": [
    {
     "name": "stdout",
     "output_type": "stream",
     "text": [
      "+------+-------------------+-------+-------------+-----+------+---------+-------------------+-----+-------------+------+----+-----------+\n",
      "|userId|          timestamp|clickId|userSessionId|isHit|teamId|teamLevel|          timestamp| txId|userSessionId|teamId|adId| adCategory|\n",
      "+------+-------------------+-------+-------------+-----+------+---------+-------------------+-----+-------------+------+----+-----------+\n",
      "|  1362|2016-05-26 15:07:20|     22|         5739|    0|    13|        1|2016-06-16 10:21:01|39733|        34223|    13|   1|     sports|\n",
      "|  1362|2016-05-26 15:07:20|     22|         5739|    0|    13|        1|2016-06-15 23:52:15|38854|        34223|    13|   3|electronics|\n",
      "|  1362|2016-05-26 15:07:20|     22|         5739|    0|    13|        1|2016-06-15 12:23:31|37940|        34223|    13|  15|     sports|\n",
      "|  1362|2016-05-26 15:07:20|     22|         5739|    0|    13|        1|2016-06-13 00:12:01|32627|        26427|    13|  14|    fashion|\n",
      "|  1362|2016-05-26 15:07:20|     22|         5739|    0|    13|        1|2016-06-12 13:02:36|31729|        26427|    13|   4|      games|\n",
      "+------+-------------------+-------+-------------+-----+------+---------+-------------------+-----+-------------+------+----+-----------+\n",
      "only showing top 5 rows\n",
      "\n"
     ]
    }
   ],
   "source": [
    "merge.show(5)"
   ]
  },
  {
   "cell_type": "code",
   "execution_count": 31,
   "metadata": {},
   "outputs": [],
   "source": [
    "os.remove('game-clicks.csv.tmp')\n",
    "os.remove('ad-clicks.csv.tmp')"
   ]
  }
 ],
 "metadata": {
  "kernelspec": {
   "display_name": "Python 3",
   "language": "python",
   "name": "python3"
  },
  "language_info": {
   "codemirror_mode": {
    "name": "ipython",
    "version": 3
   },
   "file_extension": ".py",
   "mimetype": "text/x-python",
   "name": "python",
   "nbconvert_exporter": "python",
   "pygments_lexer": "ipython3",
   "version": "3.6.1"
  }
 },
 "nbformat": 4,
 "nbformat_minor": 2
}
