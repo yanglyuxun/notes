{
 "cells": [
  {
   "cell_type": "markdown",
   "metadata": {},
   "source": [
    "# Notes for the Coursera course \"Big Data Integration and Processing\"\n",
    "\n"
   ]
  },
  {
   "cell_type": "markdown",
   "metadata": {},
   "source": [
    "## Spark Core\n",
    "### Transformation\n",
    "#### map\n",
    "- One to one function\n",
    "\n",
    "#### flatMap\n",
    "- map then flatten output\n",
    "- 1 to many or many to 1\n",
    "- connect the output lists\n",
    "\n",
    "#### filter\n",
    "- keep only elements where function is true\n",
    "\n",
    "#### coalesce\n",
    "- reduce the number of partitions\n",
    "- not change the number of samples, but change the number of partitions\n",
    "\n",
    "#### groupByKey\n",
    "- (K,V) pairs -> (K, list of all V)\n",
    "\n",
    "e.g.\n",
    "(apple,1)\n",
    "(apple,1)\n",
    "--> (apple, [1,1])\n",
    "\n",
    "#### reduceByKey\n",
    "- = groupByKey + reduce"
   ]
  },
  {
   "cell_type": "code",
   "execution_count": null,
   "metadata": {},
   "outputs": [],
   "source": [
    "### Actions\n",
    "\n"
   ]
  }
 ],
 "metadata": {
  "kernelspec": {
   "display_name": "Python 3",
   "language": "python",
   "name": "python3"
  },
  "language_info": {
   "codemirror_mode": {
    "name": "ipython",
    "version": 3
   },
   "file_extension": ".py",
   "mimetype": "text/x-python",
   "name": "python",
   "nbconvert_exporter": "python",
   "pygments_lexer": "ipython3",
   "version": "3.6.1"
  }
 },
 "nbformat": 4,
 "nbformat_minor": 2
}
